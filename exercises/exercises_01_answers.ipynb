{
 "cells": [
  {
   "cell_type": "code",
   "execution_count": 1,
   "metadata": {},
   "outputs": [],
   "source": [
    "import matplotlib\n",
    "import matplotlib.pyplot as plt\n",
    "import numpy as np"
   ]
  },
  {
   "cell_type": "markdown",
   "metadata": {},
   "source": [
    "## Exercise 1"
   ]
  },
  {
   "cell_type": "code",
   "execution_count": 2,
   "metadata": {},
   "outputs": [],
   "source": [
    "def get_arr_stats(arr):\n",
    "    return (arr.mean(), arr.std(), np.percentile(arr, 99))"
   ]
  },
  {
   "cell_type": "code",
   "execution_count": 3,
   "metadata": {},
   "outputs": [
    {
     "name": "stdout",
     "output_type": "stream",
     "text": [
      "Passed!\n"
     ]
    }
   ],
   "source": [
    "# Run this to test your code\n",
    "test_arr = np.array([1,2,3,4,5,6,7,8,9,10,11,12,13,14,15,16,17,18,19,20])\n",
    "expected = (10.5, 5.766281297335398, 19.81)\n",
    "result = get_arr_stats(test_arr)\n",
    "np.testing.assert_allclose(result, expected, rtol=1e-8)\n",
    "print(\"Passed!\")"
   ]
  },
  {
   "cell_type": "markdown",
   "metadata": {},
   "source": [
    "## Exercise 2"
   ]
  },
  {
   "cell_type": "code",
   "execution_count": 4,
   "metadata": {},
   "outputs": [],
   "source": [
    "def plot(): \n",
    "    mean, std = 5, 10 # mean and standard deviation\n",
    "    s = np.random.normal(mean, std, 10000)\n",
    "    count, bins, ignored = plt.hist(s, 30, density=True, color='y')\n",
    "    plt.axvline(x=mean, color='tab:brown')\n",
    "\n",
    "    plt.axvline(x=mean+s.std(), color='c')\n",
    "    plt.axvline(x=mean-s.std(), color='c')\n",
    "\n",
    "    plt.show()"
   ]
  },
  {
   "cell_type": "code",
   "execution_count": 5,
   "metadata": {},
   "outputs": [
    {
     "data": {
      "image/png": "[encoded data removed]",
      "text/plain": [
       "<Figure size 432x288 with 1 Axes>"
      ]
     },
     "metadata": {
      "needs_background": "light"
     },
     "output_type": "display_data"
    }
   ],
   "source": [
    "# Run this to test your code (you will need to self-evaluate here or post a screenshot to an instructor)\n",
    "plot()"
   ]
  },
  {
   "cell_type": "markdown",
   "metadata": {
    "colab_type": "text",
    "id": "A0WUtVfFjXJW"
   },
   "source": [
    "## Exercise 3"
   ]
  },
  {
   "cell_type": "code",
   "execution_count": 6,
   "metadata": {},
   "outputs": [],
   "source": [
    "def num_within_1_standard_deviation(arr):\n",
    "    mean = arr.mean()\n",
    "    std = arr.std()\n",
    "    return np.sum(((arr > (mean-std)) & (arr < (mean+std))))"
   ]
  },
  {
   "cell_type": "code",
   "execution_count": 7,
   "metadata": {},
   "outputs": [
    {
     "name": "stdout",
     "output_type": "stream",
     "text": [
      "Passed!\n"
     ]
    }
   ],
   "source": [
    "# Tests for above, run this to test your code\n",
    "mean, std = 0, 0.1\n",
    "n_elems = 10000\n",
    "arr = np.random.normal(mean, std, n_elems)\n",
    "\n",
    "np.testing.assert_allclose(num_within_1_standard_deviation(arr) / n_elems, 0.6827, rtol=1e-5, atol=0.01)\n",
    "print(\"Passed!\")"
   ]
  }
 ],
 "metadata": {
  "colab": {
   "authorship_tag": "ABX9TyMCUJHy4tx7rp6OVEwaYzdz",
   "include_colab_link": true,
   "name": "exercises_01_answers.ipynb",
   "provenance": []
  },
  "kernelspec": {
   "display_name": "Python 3",
   "language": "python",
   "name": "python3"
  },
  "language_info": {
   "codemirror_mode": {
    "name": "ipython",
    "version": 3
   },
   "file_extension": ".py",
   "mimetype": "text/x-python",
   "name": "python",
   "nbconvert_exporter": "python",
   "pygments_lexer": "ipython3",
   "version": "3.9.2"
  }
 },
 "nbformat": 4,
 "nbformat_minor": 1
}
